{
  "nbformat": 4,
  "nbformat_minor": 0,
  "metadata": {
    "colab": {
      "provenance": []
    },
    "kernelspec": {
      "name": "python3",
      "display_name": "Python 3"
    },
    "language_info": {
      "name": "python"
    }
  },
  "cells": [
    {
      "cell_type": "code",
      "execution_count": null,
      "metadata": {
        "colab": {
          "base_uri": "https://localhost:8080/"
        },
        "id": "jBOn8krfvWTx",
        "outputId": "86d31f96-6553-4a8c-a9b6-6da2537a5149"
      },
      "outputs": [
        {
          "output_type": "stream",
          "name": "stdout",
          "text": [
            "Mounted at /content/drive\n"
          ]
        }
      ],
      "source": [
        "from google.colab import drive\n",
        "drive.mount('/content/drive',force_remount=True)"
      ]
    },
    {
      "cell_type": "code",
      "source": [
        "import pandas as pd\n",
        "df1 = pd.read_csv('/content/drive/My Drive/Colab Notebooks/Organ Donation.csv')\n",
        "print(df1)"
      ],
      "metadata": {
        "id": "puO71muDxDzC",
        "colab": {
          "base_uri": "https://localhost:8080/"
        },
        "outputId": "814804ac-f7ec-43e5-ad5a-cecd8838c3cb"
      },
      "execution_count": null,
      "outputs": [
        {
          "output_type": "stream",
          "name": "stdout",
          "text": [
            "    s.no Donor's Name Blood Group  Age Donations\n",
            "0      1         Riya          A+   38     Heart\n",
            "1      2       Aaryan          B-   49    Kidney\n",
            "2      3        Kajal          O+   51     Liver\n",
            "3      4      Adithya          AB   31  Pancreas\n",
            "4      5       Sruthi          B-   45     Lungs\n",
            "5      6        Kiara          O-   44     Liver\n",
            "6      7    Aishwarya          B+   47    Kidney\n",
            "7      8          Ram          AB   48  Pancreas\n",
            "8      9      Krishna          A=   56     Lungs\n",
            "9     10      Shivani          O-   35     Heart\n",
            "10    11      Deepika          A+   43    Kidney\n",
            "11    12      Karthik         AB+   42     Heart\n",
            "12    13      Shourya         AB+   40     Lungs\n",
            "13    14         Hari          O-   53  Pancreas\n",
            "14    15        Madhu          B-   58     Liver\n",
            "15    16        Arjun          O+   62     Lungs\n",
            "16    17        Pooja          AB   50  Pancreas\n",
            "17    18        Priya          B-   39     Heart\n",
            "18    19        Rahul          O-   48    Kidney\n",
            "19    20        Bruce          B+   57     Heart\n"
          ]
        }
      ]
    },
    {
      "cell_type": "code",
      "source": [
        "MAX_DONORS = 100\n",
        "MAX_ORGANS = 5\n",
        "organs = [\"Heart\", \"Kidney\", \"Liver\", \"Lung\", \"Pancreas\"]\n",
        "donors = []\n",
        "numDonors = 0\n",
        "\n",
        "# Function to register a donor\n",
        "def register_donor():\n",
        "    global numDonors\n",
        "    if numDonors >= MAX_DONORS:\n",
        "        print(\"Sorry, the system is full.\")\n",
        "        return\n",
        "\n",
        "    new_donor = {}\n",
        "    new_donor['name'] = input(\"\\nEnter donor's name: \")\n",
        "    new_donor['age'] = int(input(\"Enter donor's age: \"))\n",
        "    new_donor['blood_group'] = input(\"Enter donor's blood group: \")\n",
        "\n",
        "    print(\"Organs:\")\n",
        "    for i, organ in enumerate(organs): # enummerate function is uesd to diplay the objects in a order\n",
        "        print(f\"{i+1}. {organ}\")\n",
        "    choice = int(input(f\"Choose organ to donate (1-{MAX_ORGANS}): \"))\n",
        "    if choice < 1 or choice > MAX_ORGANS:\n",
        "        print(\"Invalid choice.\")\n",
        "        return\n",
        "    new_donor['organ'] = organs[choice - 1]\n",
        "\n",
        "    donors.append(new_donor)\n",
        "    numDonors += 1\n",
        "    print(\"Donor registered successfully.\")\n",
        "\n",
        "# Function to list all donors\n",
        "def list_donors():\n",
        "    if numDonors == 0:\n",
        "        print(\"No donors registered yet.\")\n",
        "        return\n",
        "\n",
        "    print(\"\\n--- List of Donors ---\")\n",
        "    print(\"Name\\t\\tAge\\tBlood Group\\tOrgan\")\n",
        "    for donor in donors:\n",
        "        print(f\"{donor['name']}\\t\\t{donor['age']}\\t{donor['blood_group']}\\t\\t{donor['organ']}\")\n",
        "\n",
        "def search_donors():\n",
        "    search_organ = input(\"\\nEnter organ to search for donation: \")\n",
        "    print(f\"\\n--- Donors for {search_organ} ---\")\n",
        "    print(\"Name\\t\\tAge\\tBlood Group\")\n",
        "    for donor in donors:\n",
        "        if donor['organ'] == search_organ:\n",
        "            print(f\"{donor['name']}\\t\\t{donor['age']}\\t{donor['blood_group']}\")\n",
        "\n",
        "# Main function to run the Organ Donation System\n",
        "def main():\n",
        "    while True:\n",
        "        print(\"\\n--- Organ Donation System ---\")\n",
        "        print(\"1. Register as Donor\")\n",
        "        print(\"2. List Donors\")\n",
        "        print(\"3. Search Donors\")\n",
        "        print(\"4. Exit\")\n",
        "        choice = int(input(\"Enter your choice: \"))\n",
        "\n",
        "        if choice == 1:\n",
        "            register_donor()\n",
        "        elif choice == 2:\n",
        "            list_donors()\n",
        "        elif choice == 3:\n",
        "            search_donors()\n",
        "        elif choice == 4:\n",
        "            print(\"Thank you!\")\n",
        "            break\n",
        "        else:\n",
        "            print(\"Invalid choice. Please try again.\")\n",
        "\n",
        "result=main()\n",
        "print(result)"
      ],
      "metadata": {
        "colab": {
          "base_uri": "https://localhost:8080/"
        },
        "id": "aveuNAVP42Uu",
        "outputId": "65ca1010-c528-4332-9824-1c609ff08933"
      },
      "execution_count": null,
      "outputs": [
        {
          "output_type": "stream",
          "name": "stdout",
          "text": [
            "\n",
            "--- Organ Donation System ---\n",
            "1. Register as Donor\n",
            "2. List Donors\n",
            "3. Search Donors\n",
            "4. Exit\n",
            "Enter your choice: 2\n",
            "No donors registered yet.\n",
            "\n",
            "--- Organ Donation System ---\n",
            "1. Register as Donor\n",
            "2. List Donors\n",
            "3. Search Donors\n",
            "4. Exit\n",
            "Enter your choice: 4\n",
            "Exiting program. Goodbye!\n",
            "None\n"
          ]
        }
      ]
    },
    {
      "cell_type": "code",
      "source": [
        "import numpy as np\n",
        "import matplotlib.pyplot as plt\n",
        "\n",
        "# Hypothetical data\n",
        "years = ['2018', '2019', '2020', '2021', '2022', '2023']\n",
        "organs = ['Heart', 'Liver', 'Kidney', 'Lungs', 'Pancreas']\n",
        "\n",
        "heart_donations = [100,150,200,250,300,350]\n",
        "liver_donations = [1000, 1050, 1100, 1150, 1200, 1250]\n",
        "kidney_donations = [1500, 1550, 1600, 1650, 1700, 1750]\n",
        "lungs_donations = [1200, 1250, 1300, 1350, 1400, 1450]\n",
        "pancreas_donations = [800, 850, 900, 950, 1000, 1050]\n",
        "\n",
        "x = np.arange(len(years))  # the label locations\n",
        "width = 0.2  # the width of the bar in the graph\n",
        "\n",
        "fig, ax = plt.subplots()\n",
        "rects1 = ax.bar(x - 2*width, heart_donations, width, label='Heart')\n",
        "rects2 = ax.bar(x - width, liver_donations, width, label='Liver')\n",
        "rects3 = ax.bar(x, kidney_donations, width, label='Kidney')\n",
        "rects4 = ax.bar(x + width, lungs_donations, width, label='Lungs')\n",
        "rects5 = ax.bar(x + 2*width, pancreas_donations, width, label='Pancreas')\n",
        "\n",
        "# Add some text for labels, title and custom x-axis tick labels, etc.\n",
        "ax.set_xlabel('Year')\n",
        "ax.set_ylabel('Number of Organ Donations')\n",
        "ax.set_title('Organ Donations from 2018 to 2023')\n",
        "ax.set_xticks(x + width)\n",
        "ax.set_xticklabels(years)\n",
        "ax.legend()\n",
        "\n",
        "fig.tight_layout()\n",
        "\n",
        "plt.show()"
      ],
      "metadata": {
        "colab": {
          "base_uri": "https://localhost:8080/",
          "height": 487
        },
        "id": "xrD3KY5OMjgF",
        "outputId": "9f537d6e-551c-4499-82e9-4b057575399e"
      },
      "execution_count": null,
      "outputs": [
        {
          "output_type": "display_data",
          "data": {
            "text/plain": [
              "<Figure size 640x480 with 1 Axes>"
            ],
            "image/png": "[encoded data removed]"
          },
          "metadata": {}
        }
      ]
    },
    {
      "cell_type": "code",
      "source": [],
      "metadata": {
        "id": "X6weBLjAPU6V"
      },
      "execution_count": null,
      "outputs": []
    }
  ]
}